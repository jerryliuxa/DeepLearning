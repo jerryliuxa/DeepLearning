{
  "nbformat": 4,
  "nbformat_minor": 0,
  "metadata": {
    "colab": {
      "provenance": [],
      "gpuType": "T4",
      "include_colab_link": true
    },
    "kernelspec": {
      "name": "python3",
      "display_name": "Python 3"
    },
    "language_info": {
      "name": "python"
    },
    "accelerator": "GPU"
  },
  "cells": [
    {
      "cell_type": "markdown",
      "metadata": {
        "id": "view-in-github",
        "colab_type": "text"
      },
      "source": [
        "<a href=\"https://colab.research.google.com/github/jerryliuxa/DeepLearning/blob/master/ChatGLM3.ipynb\" target=\"_parent\"><img src=\"https://colab.research.google.com/assets/colab-badge.svg\" alt=\"Open In Colab\"/></a>"
      ]
    },
    {
      "cell_type": "markdown",
      "source": [
        "ChatGLM3是智谱AI和清华大学KEG实验室联合发布的新一代对话预训练模型\n",
        "\n",
        "原项目地址：https://github.com/THUDM/ChatGLM3\n",
        "\n",
        "此Colab笔记本由Kihh制作编写\n",
        "\n",
        "博文：https://blog.kihh.xyz/p/在google-colab快速部署chatglm3-6b/"
      ],
      "metadata": {
        "id": "z-OgssbBwoZF"
      }
    },
    {
      "cell_type": "code",
      "execution_count": null,
      "metadata": {
        "id": "t3hTuFWVbCw0"
      },
      "outputs": [],
      "source": [
        "#检查显卡环境\n",
        "!nvidia-smi"
      ]
    },
    {
      "cell_type": "code",
      "source": [
        "#环境部署\n",
        "!git clone https://github.com/THUDM/ChatGLM3\n",
        "%cd ChatGLM3\n",
        "!pip install --upgrade pip\n",
        "!pip install protobuf 'transformers>=4.30.2' cpm_kernels 'torch>=2.0' gradio mdtex2html sentencepiece accelerate"
      ],
      "metadata": {
        "id": "lV4cW1XXbKbp"
      },
      "execution_count": null,
      "outputs": []
    },
    {
      "cell_type": "code",
      "source": [
        "#部署cloudflared内网穿透\n",
        "!curl -Lo /usr/bin/cloudflared https://github.com/cloudflare/cloudflared/releases/latest/download/cloudflared-linux-amd64 && chmod +x /usr/bin/cloudflared"
      ],
      "metadata": {
        "id": "sal-ArD4nWBJ"
      },
      "execution_count": null,
      "outputs": []
    },
    {
      "cell_type": "code",
      "source": [
        "#运行ChatGLM3 Gradio网页示例\n",
        "!python /content/ChatGLM3/basic_demo/web_demo_gradio.py & cloudflared tunnel --url localhost:8501"
      ],
      "metadata": {
        "id": "WCLJ7qY0jYAI",
        "outputId": "1736c030-382f-43f3-e4d7-f536a91b6e7f",
        "colab": {
          "base_uri": "https://localhost:8080/"
        }
      },
      "execution_count": null,
      "outputs": [
        {
          "metadata": {
            "tags": null
          },
          "name": "stdout",
          "output_type": "stream",
          "text": [
            "shell-init: error retrieving current directory: getcwd: cannot access parent directories: No such file or directory\n",
            "shell-init: error retrieving current directory: getcwd: cannot access parent directories: No such file or directory\n",
            "\u001b[90m2024-04-09T08:26:46Z\u001b[0m \u001b[32mINF\u001b[0m Thank you for trying Cloudflare Tunnel. Doing so, without a Cloudflare account, is a quick way to experiment and try it out. However, be aware that these account-less Tunnels have no uptime guarantee. If you intend to use Tunnels in production you should use a pre-created named tunnel by following: https://developers.cloudflare.com/cloudflare-one/connections/connect-apps\n",
            "\u001b[90m2024-04-09T08:26:46Z\u001b[0m \u001b[32mINF\u001b[0m Requesting new quick Tunnel on trycloudflare.com...\n",
            "\u001b[90m2024-04-09T08:26:47Z\u001b[0m \u001b[32mINF\u001b[0m +--------------------------------------------------------------------------------------------+\n",
            "\u001b[90m2024-04-09T08:26:47Z\u001b[0m \u001b[32mINF\u001b[0m |  Your quick Tunnel has been created! Visit it at (it may take some time to be reachable):  |\n",
            "\u001b[90m2024-04-09T08:26:47Z\u001b[0m \u001b[32mINF\u001b[0m |  https://warrant-courage-vi-situation.trycloudflare.com                                    |\n",
            "\u001b[90m2024-04-09T08:26:47Z\u001b[0m \u001b[32mINF\u001b[0m +--------------------------------------------------------------------------------------------+\n",
            "\u001b[90m2024-04-09T08:26:47Z\u001b[0m \u001b[32mINF\u001b[0m Cannot determine default configuration path. No file [config.yml config.yaml] in [~/.cloudflared ~/.cloudflare-warp ~/cloudflare-warp /etc/cloudflared /usr/local/etc/cloudflared]\n",
            "\u001b[90m2024-04-09T08:26:47Z\u001b[0m \u001b[32mINF\u001b[0m Version 2024.3.0\n",
            "\u001b[90m2024-04-09T08:26:47Z\u001b[0m \u001b[32mINF\u001b[0m GOOS: linux, GOVersion: go1.21.5, GoArch: amd64\n",
            "\u001b[90m2024-04-09T08:26:47Z\u001b[0m \u001b[32mINF\u001b[0m Settings: map[ha-connections:1 protocol:quic url:localhost:8501]\n",
            "\u001b[90m2024-04-09T08:26:47Z\u001b[0m \u001b[32mINF\u001b[0m Generated Connector ID: 217b9e44-1f16-4974-a3c8-d25df441ea5a\n",
            "\u001b[90m2024-04-09T08:26:47Z\u001b[0m \u001b[32mINF\u001b[0m cloudflared will not automatically update when run from the shell. To enable auto-updates, run cloudflared as a service: https://developers.cloudflare.com/cloudflare-one/connections/connect-apps/run-tunnel/as-a-service/\n",
            "\u001b[90m2024-04-09T08:26:47Z\u001b[0m \u001b[32mINF\u001b[0m Initial protocol quic\n",
            "\u001b[90m2024-04-09T08:26:47Z\u001b[0m \u001b[32mINF\u001b[0m ICMP proxy will use 172.28.0.12 as source for IPv4\n",
            "\u001b[90m2024-04-09T08:26:47Z\u001b[0m \u001b[32mINF\u001b[0m ICMP proxy will use :: as source for IPv6\n",
            "\u001b[90m2024-04-09T08:26:47Z\u001b[0m \u001b[32mINF\u001b[0m Starting metrics server on 127.0.0.1:36737/metrics\n",
            "2024/04/09 08:26:47 failed to sufficiently increase receive buffer size (was: 208 kiB, wanted: 2048 kiB, got: 416 kiB). See https://github.com/quic-go/quic-go/wiki/UDP-Buffer-Sizes for details.\n",
            "\u001b[90m2024-04-09T08:26:48Z\u001b[0m \u001b[32mINF\u001b[0m Registered tunnel connection \u001b[36mconnIndex=\u001b[0m0 \u001b[36mconnection=\u001b[0mc89931bf-2345-4935-8c9e-420ec86e4835 \u001b[36mevent=\u001b[0m0 \u001b[36mip=\u001b[0m198.41.200.63 \u001b[36mlocation=\u001b[0msea06 \u001b[36mprotocol=\u001b[0mquic\n",
            "Traceback (most recent call last):\n",
            "  File \"/content/ChatGLM3/basic_demo/web_demo_gradio.py\", line 20, in <module>\n",
            "    import gradio as gr\n",
            "  File \"/usr/local/lib/python3.10/dist-packages/gradio/__init__.py\", line 103, in <module>\n",
            "    from gradio.cli import deploy\n",
            "  File \"/usr/local/lib/python3.10/dist-packages/gradio/cli/__init__.py\", line 1, in <module>\n",
            "    from .cli import cli, deploy\n",
            "  File \"/usr/local/lib/python3.10/dist-packages/gradio/cli/cli.py\", line 7, in <module>\n",
            "    from .commands import custom_component, deploy, print_environment_info, reload\n",
            "  File \"/usr/local/lib/python3.10/dist-packages/gradio/cli/commands/__init__.py\", line 3, in <module>\n",
            "    from .deploy_space import deploy\n",
            "  File \"/usr/local/lib/python3.10/dist-packages/gradio/cli/commands/deploy_space.py\", line 14, in <module>\n",
            "    repo_directory = os.getcwd()\n",
            "FileNotFoundError: [Errno 2] No such file or directory\n"
          ]
        }
      ]
    }
  ]
}